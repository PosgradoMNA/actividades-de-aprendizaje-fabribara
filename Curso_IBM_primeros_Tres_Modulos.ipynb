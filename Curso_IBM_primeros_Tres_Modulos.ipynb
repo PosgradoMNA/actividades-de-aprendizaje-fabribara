{
  "nbformat": 4,
  "nbformat_minor": 0,
  "metadata": {
    "colab": {
      "provenance": [],
      "authorship_tag": "ABX9TyPwiLRQBHU+lQbdRiKd5sFG",
      "include_colab_link": true
    },
    "kernelspec": {
      "name": "python3",
      "display_name": "Python 3"
    },
    "language_info": {
      "name": "python"
    }
  },
  "cells": [
    {
      "cell_type": "markdown",
      "metadata": {
        "id": "view-in-github",
        "colab_type": "text"
      },
      "source": [
        "<a href=\"https://colab.research.google.com/github/PosgradoMNA/actividades-de-aprendizaje-fabribara/blob/main/Curso_IBM_primeros_Tres_Modulos.ipynb\" target=\"_parent\"><img src=\"https://colab.research.google.com/assets/colab-badge.svg\" alt=\"Open In Colab\"/></a>"
      ]
    },
    {
      "cell_type": "code",
      "execution_count": 1,
      "metadata": {
        "id": "b2xGQ0sYAbCk",
        "colab": {
          "base_uri": "https://localhost:8080/",
          "height": 422
        },
        "outputId": "5e417d37-f2f1-496f-b30f-25e69236507e"
      },
      "outputs": [
        {
          "output_type": "execute_result",
          "data": {
            "text/plain": [
              "<IPython.lib.display.IFrame at 0x7ff2f5801610>"
            ],
            "text/html": [
              "\n",
              "        <iframe\n",
              "            width=\"800\"\n",
              "            height=\"400\"\n",
              "            src=\"https://github.com/PosgradoMNA/actividades-de-aprendizaje-fabribara/blob/main/Screen%20Shot%202022-09-20%20at%208.54.45%20PM.png\"\n",
              "            frameborder=\"0\"\n",
              "            allowfullscreen\n",
              "        ></iframe>\n",
              "        "
            ]
          },
          "metadata": {},
          "execution_count": 1
        }
      ],
      "source": [
        "#https://github.com/PosgradoMNA/actividades-de-aprendizaje-fabribara/blob/main/Screen%20Shot%202022-09-20%20at%208.54.45%20PM.png\n",
        "from IPython.display import IFrame\n",
        "\n",
        "url = 'https://github.com/PosgradoMNA/actividades-de-aprendizaje-fabribara/blob/main/Screen%20Shot%202022-09-20%20at%208.54.45%20PM.png'\n",
        "IFrame(url, width=800, height=400)"
      ]
    }
  ]
}